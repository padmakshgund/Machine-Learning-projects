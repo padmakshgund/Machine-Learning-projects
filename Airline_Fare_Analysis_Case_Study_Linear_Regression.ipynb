{
 "cells": [
  {
   "cell_type": "markdown",
   "metadata": {
    "colab_type": "text",
    "id": "3WO3U0XxQ25z"
   },
   "source": [
    "# Description: \n",
    "Airfares and passengers for U.S. Domestic Routes\n",
    "for 4th Quarter of 2002."
   ]
  },
  {
   "cell_type": "markdown",
   "metadata": {},
   "source": [
    "# Variables/Columns\n",
    "\n",
    "City1   1-3\n",
    "\n",
    "City2   5-7\n",
    "\n",
    "Average Fare    11-17\n",
    "\n",
    "Distance      20-23\n",
    "\n",
    "Average weekly passengers   26-33\n",
    "\n",
    "market leading airline    36-37\n",
    "\n",
    "market share     40-45\n",
    "\n",
    "Average fare    48-54\n",
    "\n",
    "Low price airline   57-58\n",
    "\n",
    "market share    61-66\n",
    "\n",
    "price     69-75"
   ]
  },
  {
   "cell_type": "markdown",
   "metadata": {},
   "source": [
    "# Source: \n",
    "U.S. Department of Transportation"
   ]
  },
  {
   "cell_type": "markdown",
   "metadata": {},
   "source": [
    "# 1. Reading Source File and Checking Data"
   ]
  },
  {
   "cell_type": "code",
   "execution_count": null,
   "metadata": {
    "colab": {},
    "colab_type": "code",
    "id": "7Do5bgnVQ250"
   },
   "outputs": [],
   "source": [
    "import pandas as pd\n",
    "import numpy as np\n",
    "import matplotlib.pyplot as plt\n",
    "import seaborn as sns\n",
    "\n"
   ]
  },
  {
   "cell_type": "code",
   "execution_count": null,
   "metadata": {
    "colab": {},
    "colab_type": "code",
    "id": "r37Tkap0Q254"
   },
   "outputs": [],
   "source": [
    "#reading source file\n",
    "file=pd.read_csv(\"http://users.stat.ufl.edu/~winner/data/airq402.dat\", sep='\\s+'  , engine='python')"
   ]
  },
  {
   "cell_type": "code",
   "execution_count": null,
   "metadata": {
    "colab": {},
    "colab_type": "code",
    "id": "YjfByevAQ259"
   },
   "outputs": [],
   "source": [
    "# Adding colunm names as mentioned in data file\n",
    "file.columns = ['City1', 'City2', 'Average Flight Fare', 'Distance','Average Weekly Passengers','Market Leading Airline (MLA)',\n",
    "               'Market Share MLA', 'Average MLA Fare', 'Low Price Airline (LPA)', 'Market Share LPA', 'Average LPA Fare']"
   ]
  },
  {
   "cell_type": "code",
   "execution_count": null,
   "metadata": {
    "colab": {},
    "colab_type": "code",
    "id": "_z1rt19yQ26A",
    "outputId": "4c5e02c0-6d03-44fb-fde3-9a024a2f5f78"
   },
   "outputs": [],
   "source": [
    "file.head()"
   ]
  },
  {
   "cell_type": "markdown",
   "metadata": {
    "colab_type": "text",
    "id": "NSjZ8ePbQ26F"
   },
   "source": [
    "# 2. Data Cleaning"
   ]
  },
  {
   "cell_type": "code",
   "execution_count": null,
   "metadata": {
    "colab": {},
    "colab_type": "code",
    "id": "lf6F6A6_Q26G",
    "outputId": "1db22572-2335-46ae-e857-e203cdedbaa0"
   },
   "outputs": [],
   "source": [
    "# getting total number of rows and column in the dataframe\n",
    "print(f\" Shape of the dataframe = {file.shape}\")\n",
    "totalrows=file.shape[0]\n",
    "print(f\" Total number of rows in the dataset =  {totalrows}\")"
   ]
  },
  {
   "cell_type": "code",
   "execution_count": null,
   "metadata": {
    "colab": {},
    "colab_type": "code",
    "id": "rfVlqniTQ26K",
    "outputId": "af736744-461d-400a-882b-aef3167abe09"
   },
   "outputs": [],
   "source": [
    "# Checking Null colunms\n",
    "file_nullcols = file.isnull().sum()\n",
    "file_nullcols\n",
    "\n",
    "# No null values are found"
   ]
  },
  {
   "cell_type": "code",
   "execution_count": null,
   "metadata": {
    "colab": {},
    "colab_type": "code",
    "id": "yRKgLuN2Q26N",
    "outputId": "db8ba15c-4a22-4d50-c8d2-9a21a907873f"
   },
   "outputs": [],
   "source": [
    "# Checking data type of each colunm to check if any type needs to be changed\n",
    "file.dtypes"
   ]
  },
  {
   "cell_type": "code",
   "execution_count": null,
   "metadata": {
    "colab": {},
    "colab_type": "code",
    "id": "H_q1m957Q26Q"
   },
   "outputs": [],
   "source": []
  },
  {
   "cell_type": "code",
   "execution_count": null,
   "metadata": {
    "colab": {},
    "colab_type": "code",
    "id": "A8VnRntYQ26T",
    "outputId": "c0e64656-a24f-42e6-d8f3-9e9536276e2f"
   },
   "outputs": [],
   "source": [
    "# Checking basic details of the data\n",
    "file.describe()"
   ]
  },
  {
   "cell_type": "code",
   "execution_count": null,
   "metadata": {
    "colab": {},
    "colab_type": "code",
    "id": "zUTZDchqQ26W"
   },
   "outputs": [],
   "source": [
    "# Mean of distance, Average Weekly Passengers, Market share is above median\n",
    "#These prima facie seem to have outliers"
   ]
  },
  {
   "cell_type": "markdown",
   "metadata": {
    "colab_type": "text",
    "id": "vcm6Ovv5Q26Z"
   },
   "source": [
    "# 3. EDA"
   ]
  },
  {
   "cell_type": "markdown",
   "metadata": {
    "colab_type": "text",
    "id": "xuCUK51mQ26a"
   },
   "source": [
    "## 3.1. Univariate Analysis"
   ]
  },
  {
   "cell_type": "code",
   "execution_count": null,
   "metadata": {
    "colab": {},
    "colab_type": "code",
    "id": "QCZE7_IQQ26c",
    "outputId": "55ab5578-7b6a-4a61-9352-f3b1a23dd614"
   },
   "outputs": [],
   "source": [
    "plt.figure(figsize=(20,6))\n",
    "plt.subplot(1, 3, 1)\n",
    "plt.title('Average Flight Fare')\n",
    "sns.distplot(file['Average Flight Fare'],color='green')\n",
    "\n",
    "# subplot 2\n",
    "plt.subplot(1, 3, 2)\n",
    "plt.title('Distance')\n",
    "sns.distplot(file['Distance'],color='blue')\n",
    "\n",
    "# subplot 3l\n",
    "plt.subplot(1, 3, 3)\n",
    "plt.title('Average Weekly Passengers')\n",
    "sns.distplot(file['Average Weekly Passengers'],color='red')\n",
    "\n",
    "plt.figure(figsize=(20,6))\n",
    "plt.subplot(1, 3, 1)\n",
    "plt.title('Average Flight Fare')\n",
    "sns.boxplot(file['Average Flight Fare'],orient='vertical',color='green')\n",
    "\n",
    "# subplot 2\n",
    "plt.subplot(1, 3, 2)\n",
    "plt.title('Distance')\n",
    "sns.boxplot(file['Distance'],orient='vertical',color='blue')\n",
    "\n",
    "# subplot 3\n",
    "plt.subplot(1, 3, 3)\n",
    "plt.title('Average Weekly Passengers')\n",
    "sns.boxplot(file['Average Weekly Passengers'],orient='vertical',color='red')\n",
    "\n",
    "\n",
    "plt.show()"
   ]
  },
  {
   "cell_type": "markdown",
   "metadata": {
    "colab_type": "text",
    "id": "hXjSBAl6Q26g"
   },
   "source": [
    "##### Most of the flight fare lie between 100 to 300 with some outliers\n",
    "##### Average distance ranges between 500 to 2500\n",
    "##### Most of the time Average Weekly Passenger numer is less than 2000 but there are large number of outliers  "
   ]
  },
  {
   "cell_type": "code",
   "execution_count": null,
   "metadata": {
    "colab": {},
    "colab_type": "code",
    "id": "cVeSraklQ26h",
    "outputId": "bed936ad-1d58-4677-974f-a5dca0904e6a"
   },
   "outputs": [],
   "source": [
    "plt.figure(figsize=(20,6))\n",
    "plt.subplot(1, 4, 1)\n",
    "plt.title('Market Share MLA')\n",
    "sns.distplot(file['Market Share MLA'],color='green')\n",
    "\n",
    "# subplot 2\n",
    "plt.subplot(1, 4, 2)\n",
    "plt.title('Average MLA Fare')\n",
    "sns.distplot(file['Average MLA Fare'],color='blue')\n",
    "\n",
    "# subplot 3\n",
    "plt.subplot(1, 4, 3)\n",
    "plt.title('Market Share LPA')\n",
    "sns.distplot(file['Market Share LPA'],color='red')\n",
    "\n",
    "# subplot 4\n",
    "plt.subplot(1, 4, 4)\n",
    "plt.title('Average LPA Fare')\n",
    "sns.distplot(file['Average LPA Fare'],color='red')\n",
    "\n",
    "\n",
    "plt.figure(figsize=(20,6))\n",
    "plt.subplot(1, 4, 1)\n",
    "plt.title('Market Share MLA')\n",
    "sns.boxplot(file['Market Share MLA'],orient='vertical',color='green')\n",
    "\n",
    "# subplot 2\n",
    "plt.subplot(1, 4, 2)\n",
    "plt.title('Average MLA Fare')\n",
    "sns.boxplot(file['Average MLA Fare'],orient='vertical',color='blue')\n",
    "\n",
    "# subplot 3\n",
    "plt.subplot(1, 4, 3)\n",
    "plt.title('Market Share LPA')\n",
    "sns.boxplot(file['Market Share LPA'],orient='vertical',color='red')\n",
    "\n",
    "# subplot 4\n",
    "plt.subplot(1, 4, 4)\n",
    "plt.title('Average LPA Fare')\n",
    "sns.boxplot(file['Average LPA Fare'],orient='vertical',color='red')\n",
    "\n",
    "\n",
    "\n",
    "plt.show()"
   ]
  },
  {
   "cell_type": "markdown",
   "metadata": {
    "colab_type": "text",
    "id": "PZ3ose4DQ26k"
   },
   "source": [
    "##### Average fare of both Market Leader and Low Price Airline range from 100 to 300 with some outliers\n",
    "##### Market Leader has 40 to 80 percent market share on most routes\n",
    "##### Lower Price airline has less than 40 percent market share on most of the routes"
   ]
  },
  {
   "cell_type": "code",
   "execution_count": null,
   "metadata": {
    "colab": {},
    "colab_type": "code",
    "id": "ShGkJQZ9Q26l",
    "outputId": "b5e38f49-eb9f-441b-df43-653095c4ba25"
   },
   "outputs": [],
   "source": [
    "fig, ax = plt.subplots(figsize=(20,8))\n",
    "width = len(file['Market Leading Airline (MLA)'].unique()) + 6\n",
    "fig.set_size_inches(width , 8)\n",
    "ax=sns.countplot(data = file, x= 'Market Leading Airline (MLA)') \n",
    "\n",
    "\n",
    "\n",
    "for p in ax.patches: \n",
    "    ax.annotate(str((np.round(p.get_height()/len(file)*100,decimals=2)))+'%', (p.get_x()+p.get_width()/2., p.get_height()), ha='center', va='center', xytext=(0, 10), textcoords='offset points')"
   ]
  },
  {
   "cell_type": "markdown",
   "metadata": {
    "colab_type": "text",
    "id": "69TZEFxCQ26p"
   },
   "source": [
    "##### WN followed by DL happens to be market leader airline on most of the routes"
   ]
  },
  {
   "cell_type": "code",
   "execution_count": null,
   "metadata": {
    "colab": {},
    "colab_type": "code",
    "id": "jOFGC8YdQ26q",
    "outputId": "f4acc900-e8c2-4479-d7e0-a55d3dcab0bf"
   },
   "outputs": [],
   "source": [
    "fig, ax = plt.subplots(figsize=(20,8))\n",
    "width = len(file['Low Price Airline (LPA)'].unique()) + 6\n",
    "fig.set_size_inches(width , 8)\n",
    "ax=sns.countplot(data = file, x= 'Low Price Airline (LPA)') \n",
    "\n",
    "\n",
    "\n",
    "for p in ax.patches: \n",
    "    ax.annotate(str((np.round(p.get_height()/len(file)*100,decimals=2)))+'%', (p.get_x()+p.get_width()/2., p.get_height()), ha='center', va='center', xytext=(0, 10), textcoords='offset points')"
   ]
  },
  {
   "cell_type": "code",
   "execution_count": null,
   "metadata": {
    "colab": {},
    "colab_type": "code",
    "id": "veqE5PcrQ26t"
   },
   "outputs": [],
   "source": [
    "##### WN followed by DL happens to be the low price airline on most routes"
   ]
  },
  {
   "cell_type": "markdown",
   "metadata": {
    "colab_type": "text",
    "id": "Qynh9MIuQ26w"
   },
   "source": [
    "## 3.2. Bivariate Analysis"
   ]
  },
  {
   "cell_type": "code",
   "execution_count": null,
   "metadata": {
    "colab": {},
    "colab_type": "code",
    "id": "I4eLu8EwQ26x",
    "outputId": "87a1d370-911e-4ab5-8ac9-07a9292de49d"
   },
   "outputs": [],
   "source": [
    "rs = np.random.RandomState(0)\n",
    "df = pd.DataFrame(rs.rand(10, 10))\n",
    "corr = file.corr()\n",
    "corr.style.background_gradient(cmap='coolwarm')"
   ]
  },
  {
   "cell_type": "markdown",
   "metadata": {
    "colab_type": "text",
    "id": "ZZGHEfohQ26z"
   },
   "source": [
    "#### Average Flight fare is most corelated to fare of market leader and low performing flight"
   ]
  },
  {
   "cell_type": "code",
   "execution_count": null,
   "metadata": {
    "colab": {},
    "colab_type": "code",
    "id": "UkV1G-fdQ260",
    "outputId": "07ac52bd-006d-4c3e-d559-3db30cdc7a83"
   },
   "outputs": [],
   "source": [
    "plt.figure(figsize=(20, 12))\n",
    "plt.subplot(1,2,1)\n",
    "sns.boxplot(x = 'Market Leading Airline (MLA)', y = 'Average Flight Fare', data = file)\n",
    "plt.subplot(1,2,2)\n",
    "sns.boxplot(x = 'Low Price Airline (LPA)', y = 'Average Flight Fare', data = file)"
   ]
  },
  {
   "cell_type": "markdown",
   "metadata": {
    "colab_type": "text",
    "id": "hcR1Tz4hQ266"
   },
   "source": [
    "##### Most flights have comparable median flight fare with some having very low values\n",
    "##### Flight fare of market leading airline and Low Price airline seem to fall in similar range"
   ]
  },
  {
   "cell_type": "markdown",
   "metadata": {
    "colab_type": "text",
    "id": "7T54nI7KQ27B"
   },
   "source": []
  },
  {
   "cell_type": "markdown",
   "metadata": {
    "colab_type": "text",
    "id": "EG6NcFZfQ27D"
   },
   "source": [
    "# 4. Multivariate Regression and Scatter Plot"
   ]
  },
  {
   "cell_type": "markdown",
   "metadata": {
    "colab_type": "text",
    "id": "Rr3WPHpnQ27F"
   },
   "source": [
    "## 4.1. Scatter Plot"
   ]
  },
  {
   "cell_type": "code",
   "execution_count": null,
   "metadata": {
    "colab": {},
    "colab_type": "code",
    "id": "dmHFdm-LQ27G",
    "outputId": "def7a807-dc7d-4db0-8511-e27f070d2fa9"
   },
   "outputs": [],
   "source": [
    "sns.pairplot(file, y_vars='Average Flight Fare', x_vars=[\"Distance\", \"Average Weekly Passengers\",\n",
    "                                                       'Market Share MLA', 'Average MLA Fare','Market Share LPA','Average LPA Fare'\n",
    "                                                        ])\n",
    "plt.show()"
   ]
  },
  {
   "cell_type": "markdown",
   "metadata": {
    "colab_type": "text",
    "id": "RL506-8wQ27L"
   },
   "source": [
    "##### Average Flight fare is most corelated to fare of market leader and low performing flight with mild corelation with Distance as well"
   ]
  },
  {
   "cell_type": "markdown",
   "metadata": {
    "colab_type": "text",
    "id": "vg6uxGJrQ27M"
   },
   "source": [
    "##### Variabes need to be scaled before further analysis"
   ]
  },
  {
   "cell_type": "markdown",
   "metadata": {
    "colab_type": "text",
    "id": "_7QI13auQ27N"
   },
   "source": [
    "##### Transformation seems unnecessary as most data points don't show any clear trend with Average flight Fare.\n",
    "##### Still checkking effect of log transformation on the data set"
   ]
  },
  {
   "cell_type": "code",
   "execution_count": null,
   "metadata": {
    "colab": {},
    "colab_type": "code",
    "id": "H1w9xBcHQ27O"
   },
   "outputs": [],
   "source": [
    "# Log Transformation of independent variables\n",
    "D1 = np.log(file['Distance'])\n",
    "D2 = np.log(file['Average Weekly Passengers'])\n",
    "D3 = np.log(file['Market Share MLA'])\n",
    "D4 = np.log(file['Average MLA Fare'])\n",
    "D5 = np.log(file['Market Share LPA'])\n",
    "D6 = np.log(file['Average LPA Fare'])"
   ]
  },
  {
   "cell_type": "code",
   "execution_count": null,
   "metadata": {
    "colab": {},
    "colab_type": "code",
    "id": "3F755xteQ27S",
    "outputId": "24b5449c-50d5-47dc-fd39-fcdffdb8960f"
   },
   "outputs": [],
   "source": [
    "plt.figure(figsize=(20,6))\n",
    "plt.subplot(1, 2, 1)\n",
    "plt.title('Flight Fare vs Log(Distance)')\n",
    "plt.scatter( D1, file['Average Flight Fare'])\n",
    "plt.xlabel('Log(Distance)')\n",
    "plt.ylabel('Flight Fare')\n",
    "\n",
    "\n",
    "plt.figure(figsize=(20,6))\n",
    "plt.subplot(1, 2, 2)\n",
    "plt.title('Flight Fare vs Log(Average Weekly Passengers)')\n",
    "plt.scatter( D2, file['Average Flight Fare'])\n",
    "plt.xlabel('Log(Average Weekly Passengers)')\n",
    "plt.ylabel('Flight Fare')\n",
    "\n",
    "\n",
    "plt.show()"
   ]
  },
  {
   "cell_type": "markdown",
   "metadata": {
    "colab_type": "text",
    "id": "PgDDyabjQ27V"
   },
   "source": [
    "#### Given Transformation does'nt seem to be adding much value, going forth with raw data only"
   ]
  },
  {
   "cell_type": "markdown",
   "metadata": {
    "colab_type": "text",
    "id": "nnh6ejTNQ27W"
   },
   "source": [
    "## 4.2. Multi Linear Regression Model"
   ]
  },
  {
   "cell_type": "code",
   "execution_count": null,
   "metadata": {
    "colab": {},
    "colab_type": "code",
    "id": "Yhp-ifohQ27W"
   },
   "outputs": [],
   "source": [
    "# Dropping cities and Flight Name colunm as these are not actionable"
   ]
  },
  {
   "cell_type": "code",
   "execution_count": null,
   "metadata": {
    "colab": {},
    "colab_type": "code",
    "id": "EREk1wfdQ27Y"
   },
   "outputs": [],
   "source": [
    "file.drop(['City1'], axis = 1, inplace = True)\n",
    "file.drop(['City2'], axis = 1, inplace = True)\n",
    "file.drop(['Market Leading Airline (MLA)'], axis = 1, inplace = True)\n",
    "file.drop(['Low Price Airline (LPA)'], axis = 1, inplace = True)"
   ]
  },
  {
   "cell_type": "markdown",
   "metadata": {
    "colab_type": "text",
    "id": "udZXQAd6Q27b"
   },
   "source": [
    "###  4.2.1. Splitting Data into Training and Test"
   ]
  },
  {
   "cell_type": "code",
   "execution_count": null,
   "metadata": {
    "colab": {},
    "colab_type": "code",
    "id": "P4rgW33iQ27b"
   },
   "outputs": [],
   "source": [
    "from sklearn.model_selection import train_test_split\n",
    "np.random.seed(0)\n",
    "file_train, file_test = train_test_split(file, train_size = 0.7, test_size = 0.3, random_state = 100)"
   ]
  },
  {
   "cell_type": "markdown",
   "metadata": {
    "colab_type": "text",
    "id": "ct5gfQ23Q27e"
   },
   "source": [
    "### 4.2.2. Rescaling the Features"
   ]
  },
  {
   "cell_type": "code",
   "execution_count": null,
   "metadata": {
    "colab": {},
    "colab_type": "code",
    "id": "NfXJFo9FQ27f"
   },
   "outputs": [],
   "source": [
    "from sklearn.preprocessing import MinMaxScaler"
   ]
  },
  {
   "cell_type": "code",
   "execution_count": null,
   "metadata": {
    "colab": {},
    "colab_type": "code",
    "id": "oog0h12IQ27j"
   },
   "outputs": [],
   "source": [
    "scaler = MinMaxScaler()"
   ]
  },
  {
   "cell_type": "code",
   "execution_count": null,
   "metadata": {
    "colab": {},
    "colab_type": "code",
    "id": "fn-yyKY5Q27m",
    "outputId": "96042a31-18bf-44c0-b4f0-501b0fe83939"
   },
   "outputs": [],
   "source": [
    "# Apply scaler() to all the columns except the 'dummy' variables\n",
    "vars = ['Average Flight Fare', 'Distance', 'Average Weekly Passengers', 'Market Share MLA', 'Average MLA Fare'\n",
    "            ,'Market Share LPA', 'Average LPA Fare']\n",
    "\n",
    "file[vars] = scaler.fit_transform(file[vars])"
   ]
  },
  {
   "cell_type": "code",
   "execution_count": null,
   "metadata": {
    "colab": {},
    "colab_type": "code",
    "id": "PdNiGVe2Q27q",
    "outputId": "d2e838ad-c2dd-4fe8-a0d2-cdbe360ae67b"
   },
   "outputs": [],
   "source": [
    "file.head()"
   ]
  },
  {
   "cell_type": "code",
   "execution_count": null,
   "metadata": {
    "colab": {},
    "colab_type": "code",
    "id": "l_zylsSrQ27t",
    "outputId": "2ccfe24c-8a7b-431f-ab52-9eb0218a55bf"
   },
   "outputs": [],
   "source": [
    "file.describe()"
   ]
  },
  {
   "cell_type": "code",
   "execution_count": null,
   "metadata": {
    "colab": {},
    "colab_type": "code",
    "id": "mqhUjjk9Q27w"
   },
   "outputs": [],
   "source": [
    "y_train = file_train.pop('Average Flight Fare')\n",
    "X_train = file_train"
   ]
  },
  {
   "cell_type": "code",
   "execution_count": null,
   "metadata": {
    "colab": {},
    "colab_type": "code",
    "id": "3WxY9pk_Q27y"
   },
   "outputs": [],
   "source": []
  },
  {
   "cell_type": "markdown",
   "metadata": {
    "colab_type": "text",
    "id": "8lMaA9NwQ270"
   },
   "source": [
    "### 4.2.3. Fitting Regression Model"
   ]
  },
  {
   "cell_type": "code",
   "execution_count": null,
   "metadata": {
    "colab": {},
    "colab_type": "code",
    "id": "9CcP3Au4Q271"
   },
   "outputs": [],
   "source": []
  },
  {
   "cell_type": "code",
   "execution_count": null,
   "metadata": {
    "colab": {},
    "colab_type": "code",
    "id": "-leQBPEvQ275"
   },
   "outputs": [],
   "source": [
    "import statsmodels.api as sm\n",
    "X_train_lm = sm.add_constant(X_train)\n",
    "lr_1 = sm.OLS(y_train, X_train_lm).fit()"
   ]
  },
  {
   "cell_type": "code",
   "execution_count": null,
   "metadata": {
    "colab": {},
    "colab_type": "code",
    "id": "2YkOm9yVQ279",
    "outputId": "5e769075-a0f5-4f2f-bdf0-adc7009a8da5"
   },
   "outputs": [],
   "source": [
    "print(lr_1.summary())"
   ]
  },
  {
   "cell_type": "markdown",
   "metadata": {
    "colab_type": "text",
    "id": "j1o-CizxQ28B"
   },
   "source": [
    "#### Given Model is able to explain 97% + data, however large number of features have high p value\n",
    "#### Using VIF to cut down features"
   ]
  },
  {
   "cell_type": "code",
   "execution_count": null,
   "metadata": {
    "colab": {},
    "colab_type": "code",
    "id": "3LPGqGdAQ28C",
    "outputId": "7e0920b0-8ef3-4694-cc73-4d4c8010744a"
   },
   "outputs": [],
   "source": [
    "# Calculate the VIFs for the new model\n",
    "from statsmodels.stats.outliers_influence import variance_inflation_factor\n",
    "\n",
    "vif = pd.DataFrame()\n",
    "X = X_train\n",
    "vif['Features'] = X.columns\n",
    "vif['VIF'] = [variance_inflation_factor(X.values, i) for i in range(X.shape[1])]\n",
    "vif['VIF'] = round(vif['VIF'], 2)\n",
    "vif = vif.sort_values(by = \"VIF\", ascending = False)\n",
    "vif"
   ]
  },
  {
   "cell_type": "code",
   "execution_count": null,
   "metadata": {
    "colab": {},
    "colab_type": "code",
    "id": "pwUeP3DnQ28E"
   },
   "outputs": [],
   "source": [
    "# Average lPA fare has highest VIF, dropping it and checking results"
   ]
  },
  {
   "cell_type": "code",
   "execution_count": null,
   "metadata": {
    "colab": {},
    "colab_type": "code",
    "id": "_9uKAH1aQ28G"
   },
   "outputs": [],
   "source": [
    "X_new2 = X.drop('Average LPA Fare', 1)"
   ]
  },
  {
   "cell_type": "code",
   "execution_count": null,
   "metadata": {
    "colab": {},
    "colab_type": "code",
    "id": "f9Gq7wQXQ28J",
    "outputId": "c6fa3cf0-0e84-4823-b63e-d216a92fb235"
   },
   "outputs": [],
   "source": [
    "X_new2.head()"
   ]
  },
  {
   "cell_type": "code",
   "execution_count": null,
   "metadata": {
    "colab": {},
    "colab_type": "code",
    "id": "jRX3FqR9Q28O"
   },
   "outputs": [],
   "source": [
    "X_train_lm = sm.add_constant(X_new2)\n",
    "\n",
    "lr_4 = sm.OLS(y_train, X_train_lm).fit()"
   ]
  },
  {
   "cell_type": "code",
   "execution_count": null,
   "metadata": {
    "colab": {},
    "colab_type": "code",
    "id": "tttya0kMQ28T",
    "outputId": "2efb2c12-bd5f-4f0e-b9bd-26eaecdcb814"
   },
   "outputs": [],
   "source": [
    "print(lr_4.summary())"
   ]
  },
  {
   "cell_type": "code",
   "execution_count": null,
   "metadata": {
    "colab": {},
    "colab_type": "code",
    "id": "CrY0fmyhQ28V",
    "outputId": "35fbf305-b50e-437a-a754-cb8096b5d77b"
   },
   "outputs": [],
   "source": [
    "# Calculate the VIFs for the new model\n",
    "from statsmodels.stats.outliers_influence import variance_inflation_factor\n",
    "\n",
    "vif = pd.DataFrame()\n",
    "X = X_new2\n",
    "vif['Features'] = X.columns\n",
    "vif['VIF'] = [variance_inflation_factor(X.values, i) for i in range(X.shape[1])]\n",
    "vif['VIF'] = round(vif['VIF'], 2)\n",
    "vif = vif.sort_values(by = \"VIF\", ascending = False)\n",
    "vif"
   ]
  },
  {
   "cell_type": "code",
   "execution_count": null,
   "metadata": {
    "colab": {},
    "colab_type": "code",
    "id": "TfnwIimpQ28Y"
   },
   "outputs": [],
   "source": [
    "# Market Share has a high p value and a High VIF\n",
    "X_new2 = X.drop('Market Share MLA', 1)"
   ]
  },
  {
   "cell_type": "code",
   "execution_count": null,
   "metadata": {
    "colab": {},
    "colab_type": "code",
    "id": "XQh7T7IOQ28c",
    "outputId": "d805e9a1-6b8a-4099-e740-988082e55744"
   },
   "outputs": [],
   "source": [
    "X_new2.head()"
   ]
  },
  {
   "cell_type": "code",
   "execution_count": null,
   "metadata": {
    "colab": {},
    "colab_type": "code",
    "id": "qqKGXkUTQ28e"
   },
   "outputs": [],
   "source": [
    "X_train_lm = sm.add_constant(X_new2)\n",
    "\n",
    "lr_4 = sm.OLS(y_train, X_train_lm).fit()"
   ]
  },
  {
   "cell_type": "code",
   "execution_count": null,
   "metadata": {
    "colab": {},
    "colab_type": "code",
    "id": "TxHSTXOqQ28h",
    "outputId": "351d979e-1f52-440b-8ce1-1f73682edcec"
   },
   "outputs": [],
   "source": [
    "print(lr_4.summary())"
   ]
  },
  {
   "cell_type": "code",
   "execution_count": null,
   "metadata": {
    "colab": {},
    "colab_type": "code",
    "id": "DoVeS_6DQ28l",
    "outputId": "352d6c43-91d7-4477-ad73-86b748597364"
   },
   "outputs": [],
   "source": [
    "# Calculate the VIFs for the new model\n",
    "from statsmodels.stats.outliers_influence import variance_inflation_factor\n",
    "\n",
    "vif = pd.DataFrame()\n",
    "X = X_new2\n",
    "vif['Features'] = X.columns\n",
    "vif['VIF'] = [variance_inflation_factor(X.values, i) for i in range(X.shape[1])]\n",
    "vif['VIF'] = round(vif['VIF'], 2)\n",
    "vif = vif.sort_values(by = \"VIF\", ascending = False)\n",
    "vif"
   ]
  },
  {
   "cell_type": "code",
   "execution_count": null,
   "metadata": {
    "colab": {},
    "colab_type": "code",
    "id": "_C39c5q8Q28n"
   },
   "outputs": [],
   "source": []
  },
  {
   "cell_type": "code",
   "execution_count": null,
   "metadata": {
    "colab": {},
    "colab_type": "code",
    "id": "jrE06n63Q28p"
   },
   "outputs": [],
   "source": []
  },
  {
   "cell_type": "code",
   "execution_count": null,
   "metadata": {
    "colab": {},
    "colab_type": "code",
    "id": "oap0PgJ4Q28q"
   },
   "outputs": [],
   "source": [
    "# Market Share LPA has a high p value\n",
    "X_new3 = X.drop('Market Share LPA', 1)"
   ]
  },
  {
   "cell_type": "code",
   "execution_count": null,
   "metadata": {
    "colab": {},
    "colab_type": "code",
    "id": "Nr2TfpgNQ28y"
   },
   "outputs": [],
   "source": [
    "X_train_lm = sm.add_constant(X_new3)\n",
    "\n",
    "lr_4 = sm.OLS(y_train, X_train_lm).fit()"
   ]
  },
  {
   "cell_type": "code",
   "execution_count": null,
   "metadata": {
    "colab": {},
    "colab_type": "code",
    "id": "C7ViSl1wQ281",
    "outputId": "0314f092-f99c-4bbf-b5c8-3d34ac698cfb"
   },
   "outputs": [],
   "source": [
    "print(lr_4.summary())"
   ]
  },
  {
   "cell_type": "code",
   "execution_count": null,
   "metadata": {
    "colab": {},
    "colab_type": "code",
    "id": "Xv2b39ynQ283",
    "outputId": "4906290d-757f-420c-9c63-ddccd1815e1b"
   },
   "outputs": [],
   "source": [
    "# Calculate the VIFs for the new model\n",
    "from statsmodels.stats.outliers_influence import variance_inflation_factor\n",
    "\n",
    "vif = pd.DataFrame()\n",
    "X = X_new3\n",
    "vif['Features'] = X.columns\n",
    "vif['VIF'] = [variance_inflation_factor(X.values, i) for i in range(X.shape[1])]\n",
    "vif['VIF'] = round(vif['VIF'], 2)\n",
    "vif = vif.sort_values(by = \"VIF\", ascending = False)\n",
    "vif"
   ]
  },
  {
   "cell_type": "markdown",
   "metadata": {
    "colab_type": "text",
    "id": "M5RKFMNoQ289"
   },
   "source": [
    "##### Average MLA fare is the single most important feature. \n",
    "##### Distance and Average Weekly Passengers are important to some extent"
   ]
  },
  {
   "cell_type": "code",
   "execution_count": null,
   "metadata": {
    "colab": {},
    "colab_type": "code",
    "id": "0h83pvUTQ289"
   },
   "outputs": [],
   "source": []
  },
  {
   "cell_type": "markdown",
   "metadata": {
    "colab_type": "text",
    "id": "KvmkBpkvQ28_"
   },
   "source": [
    "### 4.2.4. Residual Analysis"
   ]
  },
  {
   "cell_type": "code",
   "execution_count": null,
   "metadata": {
    "colab": {},
    "colab_type": "code",
    "id": "H1GoNBUhQ28_"
   },
   "outputs": [],
   "source": [
    "y_train_price = lr_4.predict(X_train_lm)"
   ]
  },
  {
   "cell_type": "code",
   "execution_count": null,
   "metadata": {
    "colab": {},
    "colab_type": "code",
    "id": "YxonghDCQ29C",
    "outputId": "64db4db5-af0b-43be-82cf-86f6a39806df"
   },
   "outputs": [],
   "source": [
    "# Plot the histogram of the error terms\n",
    "fig = plt.figure()\n",
    "sns.distplot((y_train - y_train_price), bins = 20)\n",
    "fig.suptitle('Error Terms', fontsize = 20)                  # Plot heading \n",
    "plt.xlabel('Errors', fontsize = 18)                         # X-label"
   ]
  },
  {
   "cell_type": "code",
   "execution_count": null,
   "metadata": {
    "colab": {},
    "colab_type": "code",
    "id": "guDzVErBQ29E"
   },
   "outputs": [],
   "source": [
    "#### Error Terms are normally distributed - hence prediction can be made"
   ]
  },
  {
   "cell_type": "markdown",
   "metadata": {
    "colab_type": "text",
    "id": "aanoLRCJQ29H"
   },
   "source": [
    "### 4.2.5. Making prediction using final model"
   ]
  },
  {
   "cell_type": "code",
   "execution_count": null,
   "metadata": {
    "colab": {},
    "colab_type": "code",
    "id": "xbf4UcI9Q29H",
    "outputId": "dabb995c-37f1-47a3-9e2f-957f07d61597"
   },
   "outputs": [],
   "source": [
    "num_vars = ['Average Flight Fare', 'Distance','Average Weekly Passengers',\n",
    "               'Market Share MLA', 'Average MLA Fare', 'Market Share LPA', 'Average LPA Fare']\n",
    "\n",
    "file_test[num_vars] = scaler.transform(file_test[num_vars])"
   ]
  },
  {
   "cell_type": "code",
   "execution_count": null,
   "metadata": {
    "colab": {},
    "colab_type": "code",
    "id": "fSgeVHm9Q29J"
   },
   "outputs": [],
   "source": [
    "y_test = file_test.pop('Average Flight Fare')\n",
    "X_test = file_test"
   ]
  },
  {
   "cell_type": "code",
   "execution_count": null,
   "metadata": {
    "colab": {},
    "colab_type": "code",
    "id": "yvWrBsm_Q29L"
   },
   "outputs": [],
   "source": [
    "# Adding constant variable to test dataframe\n",
    "X_test_m4 = sm.add_constant(X_test)"
   ]
  },
  {
   "cell_type": "code",
   "execution_count": null,
   "metadata": {
    "colab": {},
    "colab_type": "code",
    "id": "ufGL16zTQ29M"
   },
   "outputs": [],
   "source": [
    "X_test_m4 = X_test_m4.drop([\"Market Share MLA\", \"Market Share LPA\", \"Average LPA Fare\"], axis = 1)"
   ]
  },
  {
   "cell_type": "code",
   "execution_count": null,
   "metadata": {
    "colab": {},
    "colab_type": "code",
    "id": "BwqnomIlQ29P"
   },
   "outputs": [],
   "source": [
    "y_pred_m4 = lr_4.predict(X_test_m4)"
   ]
  },
  {
   "cell_type": "code",
   "execution_count": null,
   "metadata": {
    "colab": {},
    "colab_type": "code",
    "id": "BJdNtrmUQ29R",
    "outputId": "4efe4519-fe95-462c-91a5-f886e4070c74"
   },
   "outputs": [],
   "source": [
    "# Plotting y_test and y_pred to understand the spread\n",
    "\n",
    "fig = plt.figure()\n",
    "plt.scatter(y_test, y_pred_m4)\n",
    "fig.suptitle('y_test vs y_pred', fontsize = 20)              # Plot heading \n",
    "plt.xlabel('y_test', fontsize = 18)                          # X-label\n",
    "plt.ylabel('y_pred', fontsize = 16)  "
   ]
  },
  {
   "cell_type": "code",
   "execution_count": null,
   "metadata": {
    "colab": {},
    "colab_type": "code",
    "id": "psMFj8wmQ29W",
    "outputId": "03d737b0-c583-419b-85e6-5d517725f66c"
   },
   "outputs": [],
   "source": [
    "from sklearn import metrics\n",
    "metrics.explained_variance_score(y_test, y_pred_m4)"
   ]
  },
  {
   "cell_type": "markdown",
   "metadata": {
    "colab_type": "text",
    "id": "jYVwo5UGQ29Y"
   },
   "source": [
    "####  Model is able to explain 90% + of variance in test data  & 96% + variance in train data\n"
   ]
  },
  {
   "cell_type": "code",
   "execution_count": null,
   "metadata": {
    "colab": {},
    "colab_type": "code",
    "id": "g9SqLi5AQ29Z",
    "outputId": "3fae22d0-e9c9-4975-a65b-71452de10287"
   },
   "outputs": [],
   "source": []
  },
  {
   "cell_type": "code",
   "execution_count": null,
   "metadata": {
    "colab": {},
    "colab_type": "code",
    "id": "3GlyI_VHQ29c",
    "outputId": "f04729b6-4ced-4a65-a644-6e7ce111dfe0"
   },
   "outputs": [],
   "source": []
  },
  {
   "cell_type": "markdown",
   "metadata": {
    "colab_type": "text",
    "id": "O2ynwfFyQ29i"
   },
   "source": [
    "# 5. Other Models that can be applied"
   ]
  },
  {
   "cell_type": "markdown",
   "metadata": {
    "colab_type": "text",
    "id": "A-yhjVO7Q29j"
   },
   "source": [
    "##### 1. Polynomian Regression to capture non linearity in data\n",
    "##### 2. Decision Tree with Regression at nodes (ensemble model)\n"
   ]
  },
  {
   "cell_type": "markdown",
   "metadata": {
    "colab_type": "text",
    "id": "BZXyfdALQ29j"
   },
   "source": [
    "# 6. Other ways of improving data:\n",
    "    \n",
    "    "
   ]
  },
  {
   "cell_type": "markdown",
   "metadata": {
    "colab_type": "text",
    "id": "NJvxGAp_Q29k"
   },
   "source": [
    "##### 1. Better independent variables can be derived. Some independent variables include:\n",
    "        a. Average MlA Fare / Distance b. Average LPA Fare / Distance c. Average MLA fare / Number of passengers d. Average \n",
    "            LPA fare / Number of passengers\n",
    "##### 2. Completely new dependent variables can be introduced like:\n",
    "        b. Number of flights plying on each route \n",
    "\n",
    "##### 3. PCA can identify better independent variable with minimum co-relation\n",
    "\n"
   ]
  },
  {
   "cell_type": "markdown",
   "metadata": {
    "colab_type": "text",
    "id": "S4s8olrsQ29l"
   },
   "source": [
    "# 7. Conclusion"
   ]
  },
  {
   "cell_type": "markdown",
   "metadata": {
    "colab_type": "text",
    "id": "HccJt74eQ29l"
   },
   "source": [
    "##### 1. As for Multivariate Analysis, Average MLA Fare is the most important independent variable. \n",
    "##### 2. Distance and Average Weekly passenger count also effect Flight charges\n",
    "##### 3. Multivariate analysis gives decent modl with more than 90% R2 on test data set\n",
    "##### 4. Accuracy (read R2) can be improved further using features explained above (using alternated model or adding more variables)\n",
    "##### 5. Transformations like log can improve model accuracy slightly but still effect of Average MLA stays most significant\n",
    "\n",
    "#### Understanding from EDA:\n",
    "\n",
    "##### 1. Most of the flight fare lie between 100 to 300 with some outliers\n",
    "##### 2. Average distance ranges between 500 to 2500\n",
    "##### 3. Most of the time Average Weekly Passenger numer is less than 2000 but there are large number of outliers  \n",
    "##### 4. Average fare of both Market Leader and Low Price Airline range from 100 to 300 with some outliers\n",
    "##### 5. Market Leader has 40 to 80 percent market share on most routes\n",
    "##### 6. Lower Price airline has less than 40 percent market share on most of the routes\n",
    "##### 7. Most flights have comparable median flight fare with some having very low values\n",
    "##### 8. Flight fare of market leading airline and Low Price airline seem to fall in similar range"
   ]
  },
  {
   "cell_type": "code",
   "execution_count": null,
   "metadata": {
    "colab": {},
    "colab_type": "code",
    "id": "XmKi7RRuQ29m"
   },
   "outputs": [],
   "source": []
  }
 ],
 "metadata": {
  "colab": {
   "name": "Airline Fare Analysis Case Study- Linear Regression.ipynb",
   "provenance": [],
   "version": "0.3.2"
  },
  "kernelspec": {
   "display_name": "Python 3 (ipykernel)",
   "language": "python",
   "name": "python3"
  },
  "language_info": {
   "codemirror_mode": {
    "name": "ipython",
    "version": 3
   },
   "file_extension": ".py",
   "mimetype": "text/x-python",
   "name": "python",
   "nbconvert_exporter": "python",
   "pygments_lexer": "ipython3",
   "version": "3.9.13"
  }
 },
 "nbformat": 4,
 "nbformat_minor": 1
}
